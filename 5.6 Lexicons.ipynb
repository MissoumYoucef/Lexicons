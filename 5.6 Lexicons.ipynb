{
 "cells": [
  {
   "cell_type": "code",
   "execution_count": 36,
   "metadata": {},
   "outputs": [
    {
     "data": {
      "text/plain": [
       "[Synset('plan.n.01'),\n",
       " Synset('program.n.02'),\n",
       " Synset('broadcast.n.02'),\n",
       " Synset('platform.n.02'),\n",
       " Synset('program.n.05'),\n",
       " Synset('course_of_study.n.01'),\n",
       " Synset('program.n.07'),\n",
       " Synset('program.n.08'),\n",
       " Synset('program.v.01'),\n",
       " Synset('program.v.02')]"
      ]
     },
     "execution_count": 36,
     "metadata": {},
     "output_type": "execute_result"
    }
   ],
   "source": [
    "from nltk.corpus import wordnet\n",
    "syns = wordnet.synsets(\"program\")\n",
    "syns\n"
   ]
  },
  {
   "cell_type": "markdown",
   "metadata": {},
   "source": [
    "Synset('plan.n.01'), --> Tv program\n",
    "Synset('program.n.02'), --> Computer program"
   ]
  },
  {
   "cell_type": "code",
   "execution_count": 2,
   "metadata": {},
   "outputs": [
    {
     "data": {
      "text/plain": [
       "Synset('plan.n.01')"
      ]
     },
     "execution_count": 2,
     "metadata": {},
     "output_type": "execute_result"
    }
   ],
   "source": [
    "syns[0]"
   ]
  },
  {
   "cell_type": "code",
   "execution_count": 3,
   "metadata": {},
   "outputs": [
    {
     "data": {
      "text/plain": [
       "'plan.n.01'"
      ]
     },
     "execution_count": 3,
     "metadata": {},
     "output_type": "execute_result"
    }
   ],
   "source": [
    "syns[0].name()"
   ]
  },
  {
   "cell_type": "code",
   "execution_count": 19,
   "metadata": {},
   "outputs": [
    {
     "data": {
      "text/plain": [
       "[Lemma('plan.n.01.plan'),\n",
       " Lemma('plan.n.01.program'),\n",
       " Lemma('plan.n.01.programme')]"
      ]
     },
     "execution_count": 19,
     "metadata": {},
     "output_type": "execute_result"
    }
   ],
   "source": [
    "syns[0].lemmas()"
   ]
  },
  {
   "cell_type": "code",
   "execution_count": 4,
   "metadata": {},
   "outputs": [
    {
     "data": {
      "text/plain": [
       "'plan'"
      ]
     },
     "execution_count": 4,
     "metadata": {},
     "output_type": "execute_result"
    }
   ],
   "source": [
    "syns[0].lemmas()[0].name()  # base name of word --> use lemmas() programmed --> program"
   ]
  },
  {
   "cell_type": "code",
   "execution_count": 9,
   "metadata": {},
   "outputs": [
    {
     "data": {
      "text/plain": [
       "'a series of steps to be carried out or goals to be accomplished'"
      ]
     },
     "execution_count": 9,
     "metadata": {},
     "output_type": "execute_result"
    }
   ],
   "source": [
    "syns[0].definition()"
   ]
  },
  {
   "cell_type": "code",
   "execution_count": 10,
   "metadata": {},
   "outputs": [
    {
     "data": {
      "text/plain": [
       "['they drew up a six-step plan', 'they discussed plans for a new bond issue']"
      ]
     },
     "execution_count": 10,
     "metadata": {},
     "output_type": "execute_result"
    }
   ],
   "source": [
    "syns[0].examples()"
   ]
  },
  {
   "cell_type": "code",
   "execution_count": 11,
   "metadata": {},
   "outputs": [
    {
     "data": {
      "text/plain": [
       "[Synset('dog.n.01'),\n",
       " Synset('frump.n.01'),\n",
       " Synset('dog.n.03'),\n",
       " Synset('cad.n.01'),\n",
       " Synset('frank.n.02'),\n",
       " Synset('pawl.n.01'),\n",
       " Synset('andiron.n.01'),\n",
       " Synset('chase.v.01')]"
      ]
     },
     "execution_count": 11,
     "metadata": {},
     "output_type": "execute_result"
    }
   ],
   "source": [
    "from nltk.corpus import wordnet as wn\n",
    "wn.synsets('dog')\n"
   ]
  },
  {
   "cell_type": "code",
   "execution_count": 12,
   "metadata": {},
   "outputs": [
    {
     "name": "stdout",
     "output_type": "stream",
     "text": [
      "Synset('dog.n.01')\n",
      "a member of the genus Canis (probably descended from the common wolf) that has been domesticated by man since prehistoric times; occurs in many breeds\n",
      "------------------------------\n",
      "Synset('frump.n.01')\n",
      "a dull unattractive unpleasant girl or woman\n",
      "------------------------------\n",
      "Synset('dog.n.03')\n",
      "informal term for a man\n",
      "------------------------------\n",
      "Synset('cad.n.01')\n",
      "someone who is morally reprehensible\n",
      "------------------------------\n",
      "Synset('frank.n.02')\n",
      "a smooth-textured sausage of minced beef or pork usually smoked; often served on a bread roll\n",
      "------------------------------\n",
      "Synset('pawl.n.01')\n",
      "a hinged catch that fits into a notch of a ratchet to move a wheel forward or prevent it from moving backward\n",
      "------------------------------\n",
      "Synset('andiron.n.01')\n",
      "metal supports for logs in a fireplace\n",
      "------------------------------\n",
      "Synset('chase.v.01')\n",
      "go after with the intent to catch\n",
      "------------------------------\n"
     ]
    }
   ],
   "source": [
    "for i in range(len(wn.synsets('dog'))) : \n",
    "    print(wn.synsets('dog')[i])\n",
    "    print(wn.synsets('dog')[i].definition())\n",
    "    print('------------------------------')"
   ]
  },
  {
   "cell_type": "code",
   "execution_count": null,
   "metadata": {},
   "outputs": [],
   "source": []
  },
  {
   "cell_type": "code",
   "execution_count": 21,
   "metadata": {},
   "outputs": [
    {
     "data": {
      "text/plain": [
       "[Synset('school.n.01'),\n",
       " Synset('school.n.02'),\n",
       " Synset('school.n.03'),\n",
       " Synset('school.n.04'),\n",
       " Synset('school.n.05'),\n",
       " Synset('school.n.06'),\n",
       " Synset('school.n.07'),\n",
       " Synset('school.v.01'),\n",
       " Synset('educate.v.03'),\n",
       " Synset('school.v.03')]"
      ]
     },
     "execution_count": 21,
     "metadata": {},
     "output_type": "execute_result"
    }
   ],
   "source": [
    "wn.synsets('school')"
   ]
  },
  {
   "cell_type": "code",
   "execution_count": 22,
   "metadata": {},
   "outputs": [
    {
     "data": {
      "text/plain": [
       "[Synset('like.n.01'),\n",
       " Synset('like.n.02'),\n",
       " Synset('wish.v.02'),\n",
       " Synset('like.v.02'),\n",
       " Synset('like.v.03'),\n",
       " Synset('like.v.04'),\n",
       " Synset('like.v.05'),\n",
       " Synset('like.a.01'),\n",
       " Synset('like.a.02'),\n",
       " Synset('alike.a.01'),\n",
       " Synset('comparable.s.02')]"
      ]
     },
     "execution_count": 22,
     "metadata": {},
     "output_type": "execute_result"
    }
   ],
   "source": [
    "wn.synsets('like')"
   ]
  },
  {
   "cell_type": "code",
   "execution_count": 20,
   "metadata": {},
   "outputs": [
    {
     "data": {
      "text/plain": [
       "'metal supports for logs in a fireplace'"
      ]
     },
     "execution_count": 20,
     "metadata": {},
     "output_type": "execute_result"
    }
   ],
   "source": [
    "wn.synset('andiron.n.01').definition()"
   ]
  },
  {
   "cell_type": "code",
   "execution_count": 19,
   "metadata": {
    "scrolled": true
   },
   "outputs": [
    {
     "name": "stdout",
     "output_type": "stream",
     "text": [
      "definition : a room or building equipped with one or more toilets\n",
      "-----------------\n",
      "examples : []\n",
      "=========================================\n",
      "definition : youngest son of Henry II; King of England from 1199 to 1216; succeeded to the throne on the death of his brother Richard I; lost his French possessions; in 1215 John was compelled by the barons to sign the Magna Carta (1167-1216)\n",
      "-----------------\n",
      "examples : []\n",
      "=========================================\n",
      "definition : (New Testament) disciple of Jesus; traditionally said to be the author of the 4th Gospel and three epistles and the book of Revelation\n",
      "-----------------\n",
      "examples : []\n",
      "=========================================\n",
      "definition : a prostitute's customer\n",
      "-----------------\n",
      "examples : []\n",
      "=========================================\n",
      "definition : the last of the four Gospels in the New Testament\n",
      "-----------------\n",
      "examples : []\n",
      "=========================================\n"
     ]
    }
   ],
   "source": [
    "# word = 'cat'\n",
    "# word = 'egypt'\n",
    "word = 'john'\n",
    "# word = 'hitler'\n",
    "# word = 'earth'\n",
    "\n",
    "for i in wn.synsets(word) : \n",
    "    print(f'definition : {i.definition()}')\n",
    "    print('-----------------')\n",
    "    print(f'examples : {i.examples()}')\n",
    "    print('=========================================')"
   ]
  },
  {
   "cell_type": "code",
   "execution_count": 17,
   "metadata": {},
   "outputs": [
    {
     "data": {
      "text/plain": [
       "[Synset('good.n.01'),\n",
       " Synset('good.n.02'),\n",
       " Synset('good.n.03'),\n",
       " Synset('commodity.n.01'),\n",
       " Synset('good.a.01'),\n",
       " Synset('full.s.06'),\n",
       " Synset('good.a.03'),\n",
       " Synset('estimable.s.02'),\n",
       " Synset('beneficial.s.01'),\n",
       " Synset('good.s.06'),\n",
       " Synset('good.s.07'),\n",
       " Synset('adept.s.01'),\n",
       " Synset('good.s.09'),\n",
       " Synset('dear.s.02'),\n",
       " Synset('dependable.s.04'),\n",
       " Synset('good.s.12'),\n",
       " Synset('good.s.13'),\n",
       " Synset('effective.s.04'),\n",
       " Synset('good.s.15'),\n",
       " Synset('good.s.16'),\n",
       " Synset('good.s.17'),\n",
       " Synset('good.s.18'),\n",
       " Synset('good.s.19'),\n",
       " Synset('good.s.20'),\n",
       " Synset('good.s.21'),\n",
       " Synset('well.r.01'),\n",
       " Synset('thoroughly.r.02')]"
      ]
     },
     "execution_count": 17,
     "metadata": {},
     "output_type": "execute_result"
    }
   ],
   "source": [
    "wordnet.synsets(\"good\")"
   ]
  },
  {
   "cell_type": "code",
   "execution_count": 18,
   "metadata": {},
   "outputs": [
    {
     "name": "stdout",
     "output_type": "stream",
     "text": [
      "{'estimable', 'undecomposed', 'commodity', 'ripe', 'full', 'proficient', 'adept', 'trade_good', 'beneficial', 'skilful', 'expert', 'unspoilt', 'soundly', 'secure', 'respectable', 'skillful', 'near', 'in_effect', 'safe', 'effective', 'serious', 'in_force', 'thoroughly', 'practiced', 'just', 'unspoiled', 'dependable', 'good', 'well', 'sound', 'dear', 'right', 'goodness', 'salutary', 'honorable', 'upright', 'honest'}\n",
      "------------------------------------\n",
      "{'badness', 'evilness', 'evil', 'ill', 'bad'}\n"
     ]
    }
   ],
   "source": [
    "synonyms = []\n",
    "antonyms = []\n",
    "\n",
    "for syn in wordnet.synsets(\"good\"):\n",
    "    for l in syn.lemmas():\n",
    "        synonyms.append(l.name())\n",
    "        if l.antonyms():\n",
    "            antonyms.append(l.antonyms()[0].name())\n",
    "\n",
    "print(set(synonyms))\n",
    "print('------------------------------------')\n",
    "print(set(antonyms))"
   ]
  },
  {
   "cell_type": "code",
   "execution_count": 23,
   "metadata": {},
   "outputs": [
    {
     "name": "stdout",
     "output_type": "stream",
     "text": [
      "word : I\n",
      "\n",
      "synonyms : {'iodine', 'unity', 'single', '1', 'one', 'atomic_number_53', 'i', 'ane', 'iodin', 'ace', 'I'}\n",
      "===========================================\n",
      "word : need\n",
      "\n",
      "synonyms : {'motive', 'indigence', 'call_for', 'want', 'penury', 'require', 'ask', 'need', 'demand', 'postulate', 'pauperism', 'necessitate', 'take', 'pauperization', 'motivation', 'involve'}\n",
      "===========================================\n",
      "word : to\n",
      "===========================================\n",
      "word : go\n",
      "\n",
      "synonyms : {'run_low', 'crack', 'go_away', 'extend', 'croak', 'work', 'hold_out', 'give_out', 'perish', 'depart', 'fit', 'fail', 'proceed', 'endure', 'offer', 'start', 'blend_in', 'run_short', 'pass', 'belong', 'move', 'rifle', 'X', 'go_bad', 'decease', 'cristal', 'give_way', 'exit', 'pass_away', 'give-up_the_ghost', 'go', 'conk_out', 'disco_biscuit', 'last', 'live_on', 'operate', 'choke', 'buy_the_farm', 'kick_the_bucket', 'drop_dead', 'survive', 'get', 'hold_up', 'snuff_it', 'travel', 'lead', 'function', 'turn', 'conk', 'live', 'go_game', 'die', 'pop_off', 'sound', 'tour', 'plump', 'XTC', \"cash_in_one's_chips\", 'get_going', 'blend', 'expire', 'break_down', 'run', 'hug_drug', 'fling', 'whirl', 'break', 'locomote', 'ecstasy', 'become', 'Adam', 'spell'}\n",
      "\n",
      "antonyms : {'stay_in_place', 'no-go', 'come', 'stop', 'be_born', 'malfunction'}\n",
      "\n",
      "===========================================\n",
      "word : right\n",
      "\n",
      "synonyms : {'right_wing', 'flop', 'powerful', 'aright', 'ripe', 'right_on', 'the_right_way', 'properly', 'right_hand', 'rectify', 'proper', 'rightfield', 'mighty', 'decent', 'correctly', 'right-hand', 'decently', 'compensate', 'justly', 'redress', 'good', 'rightfulness', 'veracious', 'correct', 'right', 'in_good_order', 'right_field', 'mightily'}\n",
      "===========================================\n",
      "word : now\n",
      "\n",
      "synonyms : {'at_present', 'straight_off', 'nowadays', 'like_a_shot', 'forthwith', 'right_away', 'instantly', 'immediately', 'at_once', 'now', 'straightaway', 'today', 'directly'}\n",
      "===========================================\n",
      "word : to\n",
      "===========================================\n",
      "word : my\n",
      "===========================================\n",
      "word : friend\n",
      "\n",
      "synonyms : {'protagonist', 'supporter', 'acquaintance', 'booster', 'ally', 'Quaker', 'friend', 'Friend', 'champion', 'admirer'}\n",
      "===========================================\n",
      "word : Hasan\n",
      "===========================================\n"
     ]
    }
   ],
   "source": [
    "from nltk.tokenize import word_tokenize\n",
    "\n",
    "\n",
    "text = 'I need to go right now to my friend Hasan'\n",
    "\n",
    "for word in word_tokenize(text) : \n",
    "    synonyms = []\n",
    "    antonyms = []\n",
    "    \n",
    "\n",
    "    for syn in wordnet.synsets(word):\n",
    "        for l in syn.lemmas():\n",
    "            synonyms.append(l.name())\n",
    "            if l.antonyms():\n",
    "                antonyms.append(l.antonyms()[0].name())\n",
    "\n",
    "    print(f'word : {word}')\n",
    "    if len(synonyms) >1 :print(f'\\nsynonyms : {set(synonyms)}')\n",
    "    if l.antonyms(): print(f'\\nantonyms : {set(antonyms)}\\n')\n",
    "    print('===========================================')\n",
    "    "
   ]
  },
  {
   "cell_type": "code",
   "execution_count": 33,
   "metadata": {},
   "outputs": [
    {
     "data": {
      "text/plain": [
       "'maine.n.01'"
      ]
     },
     "execution_count": 33,
     "metadata": {},
     "output_type": "execute_result"
    }
   ],
   "source": [
    "word1 = 'me'\n",
    "w1=wordnet.synsets(word1)[0].name()\n",
    "w1"
   ]
  },
  {
   "cell_type": "code",
   "execution_count": 34,
   "metadata": {},
   "outputs": [
    {
     "data": {
      "text/plain": [
       "Synset('maine.n.01')"
      ]
     },
     "execution_count": 34,
     "metadata": {},
     "output_type": "execute_result"
    }
   ],
   "source": [
    "w1 = wordnet.synset(wordnet.synsets(word1)[0].name())\n",
    "w1"
   ]
  },
  {
   "cell_type": "code",
   "execution_count": 35,
   "metadata": {},
   "outputs": [
    {
     "name": "stdout",
     "output_type": "stream",
     "text": [
      "Syn (maine.n.01) and (iodine.n.01) with similarity 0.25\n"
     ]
    }
   ],
   "source": [
    "word1 = 'me'\n",
    "word2 = 'I'\n",
    "\n",
    "w1 = wordnet.synset(wordnet.synsets(word1)[0].name())\n",
    "w2 = wordnet.synset(wordnet.synsets(word2)[0].name())\n",
    "print(f'Syn ({wordnet.synsets(word1)[0].name()}) and ({wordnet.synsets(word2)[0].name()}) with similarity {w1.wup_similarity(w2)}')"
   ]
  },
  {
   "cell_type": "code",
   "execution_count": 30,
   "metadata": {},
   "outputs": [
    {
     "data": {
      "text/plain": [
       "[]"
      ]
     },
     "execution_count": 30,
     "metadata": {},
     "output_type": "execute_result"
    }
   ],
   "source": [
    "wordnet.synsets(\"the\")"
   ]
  },
  {
   "cell_type": "code",
   "execution_count": 27,
   "metadata": {},
   "outputs": [
    {
     "name": "stdout",
     "output_type": "stream",
     "text": [
      "Syn (iodine.n.01) and (iodine.n.01) with similarity 1.0\n",
      "----------------------------------------\n",
      "Syn (iodine.n.01) and (travel.v.01) with similarity 0.25\n",
      "----------------------------------------\n",
      "Syn (iodine.n.01) and (school.n.01) with similarity 0.46153846153846156\n",
      "----------------------------------------\n",
      "Syn (iodine.n.01) and (day.n.01) with similarity 0.4\n",
      "----------------------------------------\n",
      "Syn (iodine.n.01) and (talk.n.01) with similarity 0.3333333333333333\n",
      "----------------------------------------\n",
      "Syn (iodine.n.01) and (teacher.n.01) with similarity 0.2857142857142857\n",
      "----------------------------------------\n",
      "Syn (travel.v.01) and (iodine.n.01) with similarity 0.25\n",
      "----------------------------------------\n",
      "Syn (travel.v.01) and (travel.v.01) with similarity 1.0\n",
      "----------------------------------------\n",
      "Syn (travel.v.01) and (school.n.01) with similarity 0.18181818181818182\n",
      "----------------------------------------\n",
      "Syn (travel.v.01) and (day.n.01) with similarity 0.25\n",
      "----------------------------------------\n",
      "Syn (travel.v.01) and (talk.n.01) with similarity 0.2\n",
      "----------------------------------------\n",
      "Syn (travel.v.01) and (teacher.n.01) with similarity 0.16666666666666666\n",
      "----------------------------------------\n",
      "Syn (school.n.01) and (iodine.n.01) with similarity 0.46153846153846156\n",
      "----------------------------------------\n",
      "Syn (school.n.01) and (travel.v.01) with similarity 0.18181818181818182\n",
      "----------------------------------------\n",
      "Syn (school.n.01) and (school.n.01) with similarity 1.0\n",
      "----------------------------------------\n",
      "Syn (school.n.01) and (day.n.01) with similarity 0.3076923076923077\n",
      "----------------------------------------\n",
      "Syn (school.n.01) and (talk.n.01) with similarity 0.26666666666666666\n",
      "----------------------------------------\n",
      "Syn (school.n.01) and (teacher.n.01) with similarity 0.125\n",
      "----------------------------------------\n",
      "Syn (day.n.01) and (iodine.n.01) with similarity 0.4\n",
      "----------------------------------------\n",
      "Syn (day.n.01) and (travel.v.01) with similarity 0.25\n",
      "----------------------------------------\n",
      "Syn (day.n.01) and (school.n.01) with similarity 0.3076923076923077\n",
      "----------------------------------------\n",
      "Syn (day.n.01) and (day.n.01) with similarity 1.0\n",
      "----------------------------------------\n",
      "Syn (day.n.01) and (talk.n.01) with similarity 0.3333333333333333\n",
      "----------------------------------------\n",
      "Syn (day.n.01) and (teacher.n.01) with similarity 0.15384615384615385\n",
      "----------------------------------------\n",
      "Syn (talk.n.01) and (iodine.n.01) with similarity 0.3333333333333333\n",
      "----------------------------------------\n",
      "Syn (talk.n.01) and (travel.v.01) with similarity 0.2\n",
      "----------------------------------------\n",
      "Syn (talk.n.01) and (school.n.01) with similarity 0.26666666666666666\n",
      "----------------------------------------\n",
      "Syn (talk.n.01) and (day.n.01) with similarity 0.3333333333333333\n",
      "----------------------------------------\n",
      "Syn (talk.n.01) and (talk.n.01) with similarity 1.0\n",
      "----------------------------------------\n",
      "Syn (talk.n.01) and (teacher.n.01) with similarity 0.13333333333333333\n",
      "----------------------------------------\n",
      "Syn (teacher.n.01) and (iodine.n.01) with similarity 0.2857142857142857\n",
      "----------------------------------------\n",
      "Syn (teacher.n.01) and (travel.v.01) with similarity 0.16666666666666666\n",
      "----------------------------------------\n",
      "Syn (teacher.n.01) and (school.n.01) with similarity 0.125\n",
      "----------------------------------------\n",
      "Syn (teacher.n.01) and (day.n.01) with similarity 0.15384615384615385\n",
      "----------------------------------------\n",
      "Syn (teacher.n.01) and (talk.n.01) with similarity 0.13333333333333333\n",
      "----------------------------------------\n",
      "Syn (teacher.n.01) and (teacher.n.01) with similarity 1.0\n",
      "----------------------------------------\n"
     ]
    }
   ],
   "source": [
    "text = 'I went to the school that day to talk to the teacher'\n",
    "\n",
    "for word1 in word_tokenize(text) : \n",
    "    for word2 in word_tokenize(text) :\n",
    "        if len(wordnet.synsets(word1))>0 and len(wordnet.synsets(word2))>0  : \n",
    "            w1 = wordnet.synset(wordnet.synsets(word1)[0].name())\n",
    "            w2 = wordnet.synset(wordnet.synsets(word2)[0].name())\n",
    "            print(f'Syn ({wordnet.synsets(word1)[0].name()}) and ({wordnet.synsets(word2)[0].name()}) with similarity {w1.wup_similarity(w2)}')\n",
    "            print('----------------------------------------')"
   ]
  }
 ],
 "metadata": {
  "kernelspec": {
   "display_name": "Python 3",
   "language": "python",
   "name": "python3"
  },
  "language_info": {
   "codemirror_mode": {
    "name": "ipython",
    "version": 3
   },
   "file_extension": ".py",
   "mimetype": "text/x-python",
   "name": "python",
   "nbconvert_exporter": "python",
   "pygments_lexer": "ipython3",
   "version": "3.11.2"
  }
 },
 "nbformat": 4,
 "nbformat_minor": 4
}
